{
 "cells": [
  {
   "cell_type": "code",
   "execution_count": 5,
   "metadata": {
    "scrolled": true
   },
   "outputs": [
    {
     "name": "stdout",
     "output_type": "stream",
     "text": [
      "The tensorboard extension is already loaded. To reload it, use:\n",
      "  %reload_ext tensorboard\n"
     ]
    },
    {
     "data": {
      "text/html": [
       "\n",
       "      <iframe id=\"tensorboard-frame-bea3c792a712190\" width=\"100%\" height=\"800\" frameborder=\"0\">\n",
       "      </iframe>\n",
       "      <script>\n",
       "        (function() {\n",
       "          const frame = document.getElementById(\"tensorboard-frame-bea3c792a712190\");\n",
       "          const url = new URL(\"/\", window.location);\n",
       "          const port = 6006;\n",
       "          if (port) {\n",
       "            url.port = port;\n",
       "          }\n",
       "          frame.src = url;\n",
       "        })();\n",
       "      </script>\n",
       "    "
      ],
      "text/plain": [
       "<IPython.core.display.HTML object>"
      ]
     },
     "metadata": {},
     "output_type": "display_data"
    }
   ],
   "source": [
    "%load_ext tensorboard\n",
    "%tensorboard --logdir runs/train/\n",
    "\n"
   ]
  },
  {
   "cell_type": "code",
   "execution_count": 2,
   "metadata": {},
   "outputs": [],
   "source": [
    "import tensorflow"
   ]
  },
  {
   "cell_type": "code",
   "execution_count": 5,
   "metadata": {},
   "outputs": [],
   "source": [
    "!python train.py --img 640 --batch 8 --epochs 100 \\\n",
    "    --data text_data.yaml --cfg models/yolov5x.yaml --name best_model"
   ]
  },
  {
   "cell_type": "code",
   "execution_count": null,
   "metadata": {},
   "outputs": [],
   "source": [
    "python train.py --img 640 --batch 8 --epochs 100 --data text_data.yaml --cfg models/yolov5x.yaml --name best_model"
   ]
  },
  {
   "cell_type": "code",
   "execution_count": 1,
   "metadata": {
    "scrolled": true
   },
   "outputs": [],
   "source": [
    "from PIL import Image"
   ]
  },
  {
   "cell_type": "code",
   "execution_count": 4,
   "metadata": {},
   "outputs": [
    {
     "name": "stdout",
     "output_type": "stream",
     "text": [
      "Namespace(agnostic_nms=False, augment=False, classes=None, conf_thres=0.5, device='', exist_ok=False, half=False, hide_conf=False, hide_labels=False, imgsz=640, iou_thres=0.45, line_thickness=3, max_det=1000, name='exp', nosave=False, project='runs/detect', save_conf=False, save_crop=True, save_txt=True, source='text_data/images/valid/', update=False, view_img=False, weights=['runs/train/best_model6/weights/best.pt'])\n",
      "image 1/98 C:\\Users\\YeeFan\\Desktop\\yolo5\\text_data\\images\\valid\\a_001.jpg: 640x608 17 handwrittens, 13 printeds, Done. (1.129s)\n",
      "image 2/98 C:\\Users\\YeeFan\\Desktop\\yolo5\\text_data\\images\\valid\\a_007.jpg: 640x608 16 handwrittens, 13 printeds, Done. (1.202s)\n",
      "image 3/98 C:\\Users\\YeeFan\\Desktop\\yolo5\\text_data\\images\\valid\\a_013.jpg: 640x608 20 handwrittens, 13 printeds, Done. (1.145s)\n",
      "image 4/98 C:\\Users\\YeeFan\\Desktop\\yolo5\\text_data\\images\\valid\\a_019.jpg: 640x608 21 handwrittens, 13 printeds, Done. (1.284s)\n",
      "image 5/98 C:\\Users\\YeeFan\\Desktop\\yolo5\\text_data\\images\\valid\\a_025.jpg: 640x608 20 handwrittens, 13 printeds, Done. (1.230s)\n",
      "image 6/98 C:\\Users\\YeeFan\\Desktop\\yolo5\\text_data\\images\\valid\\a_031.jpg: 640x576 24 handwrittens, 13 printeds, Done. (1.006s)\n",
      "image 7/98 C:\\Users\\YeeFan\\Desktop\\yolo5\\text_data\\images\\valid\\a_037.jpg: 640x608 21 handwrittens, 13 printeds, Done. (1.160s)\n",
      "image 8/98 C:\\Users\\YeeFan\\Desktop\\yolo5\\text_data\\images\\valid\\a_043.jpg: 640x608 16 handwrittens, 13 printeds, Done. (1.222s)\n",
      "image 9/98 C:\\Users\\YeeFan\\Desktop\\yolo5\\text_data\\images\\valid\\a_049.jpg: 640x608 16 handwrittens, 13 printeds, Done. (1.045s)\n",
      "image 10/98 C:\\Users\\YeeFan\\Desktop\\yolo5\\text_data\\images\\valid\\b_005.jpg: 640x608 22 handwrittens, 27 printeds, Done. (1.072s)\n",
      "image 11/98 C:\\Users\\YeeFan\\Desktop\\yolo5\\text_data\\images\\valid\\b_011.jpg: 640x576 27 handwrittens, 29 printeds, Done. (1.131s)\n",
      "image 12/98 C:\\Users\\YeeFan\\Desktop\\yolo5\\text_data\\images\\valid\\b_017.jpg: 640x576 36 handwrittens, 28 printeds, Done. (1.151s)\n",
      "image 13/98 C:\\Users\\YeeFan\\Desktop\\yolo5\\text_data\\images\\valid\\b_023.jpg: 640x576 22 handwrittens, 27 printeds, Done. (1.051s)\n",
      "image 14/98 C:\\Users\\YeeFan\\Desktop\\yolo5\\text_data\\images\\valid\\b_029.jpg: 640x576 33 handwrittens, 28 printeds, Done. (1.147s)\n",
      "image 15/98 C:\\Users\\YeeFan\\Desktop\\yolo5\\text_data\\images\\valid\\b_035.jpg: 640x640 29 handwrittens, 27 printeds, Done. (1.229s)\n",
      "image 16/98 C:\\Users\\YeeFan\\Desktop\\yolo5\\text_data\\images\\valid\\b_038.jpg: 640x576 34 handwrittens, 27 printeds, Done. (1.096s)\n",
      "image 17/98 C:\\Users\\YeeFan\\Desktop\\yolo5\\text_data\\images\\valid\\b_040.jpg: 640x576 28 handwrittens, 27 printeds, Done. (1.208s)\n",
      "image 18/98 C:\\Users\\YeeFan\\Desktop\\yolo5\\text_data\\images\\valid\\b_041.jpg: 640x576 27 handwrittens, 27 printeds, Done. (1.125s)\n",
      "image 19/98 C:\\Users\\YeeFan\\Desktop\\yolo5\\text_data\\images\\valid\\b_047.jpg: 640x576 30 handwrittens, 27 printeds, Done. (1.072s)\n",
      "image 20/98 C:\\Users\\YeeFan\\Desktop\\yolo5\\text_data\\images\\valid\\c_003.jpg: 384x640 8 handwrittens, 11 printeds, 1 others, Done. (0.768s)\n",
      "image 21/98 C:\\Users\\YeeFan\\Desktop\\yolo5\\text_data\\images\\valid\\c_009.jpg: 384x640 7 handwrittens, 11 printeds, 1 others, Done. (0.656s)\n",
      "image 22/98 C:\\Users\\YeeFan\\Desktop\\yolo5\\text_data\\images\\valid\\c_015.jpg: 384x640 6 handwrittens, 11 printeds, 1 others, Done. (0.773s)\n",
      "image 23/98 C:\\Users\\YeeFan\\Desktop\\yolo5\\text_data\\images\\valid\\c_021.jpg: 384x640 6 handwrittens, 11 printeds, 1 others, Done. (0.711s)\n",
      "image 24/98 C:\\Users\\YeeFan\\Desktop\\yolo5\\text_data\\images\\valid\\c_027.jpg: 384x640 7 handwrittens, 11 printeds, 1 others, Done. (0.765s)\n",
      "image 25/98 C:\\Users\\YeeFan\\Desktop\\yolo5\\text_data\\images\\valid\\c_032.jpg: 384x640 6 handwrittens, 11 printeds, 1 others, Done. (1.228s)\n",
      "image 26/98 C:\\Users\\YeeFan\\Desktop\\yolo5\\text_data\\images\\valid\\c_033.jpg: 384x640 8 handwrittens, 11 printeds, 1 others, Done. (0.700s)\n",
      "image 27/98 C:\\Users\\YeeFan\\Desktop\\yolo5\\text_data\\images\\valid\\c_039.jpg: 384x640 6 handwrittens, 11 printeds, 1 others, Done. (0.889s)\n",
      "image 28/98 C:\\Users\\YeeFan\\Desktop\\yolo5\\text_data\\images\\valid\\c_040.jpg: 416x640 6 handwrittens, 11 printeds, 1 others, Done. (0.829s)\n",
      "image 29/98 C:\\Users\\YeeFan\\Desktop\\yolo5\\text_data\\images\\valid\\c_045.jpg: 384x640 6 handwrittens, 11 printeds, 1 others, Done. (0.686s)\n",
      "image 30/98 C:\\Users\\YeeFan\\Desktop\\yolo5\\text_data\\images\\valid\\d_001.jpg: 288x640 11 handwrittens, 13 printeds, 1 others, Done. (0.616s)\n",
      "image 31/98 C:\\Users\\YeeFan\\Desktop\\yolo5\\text_data\\images\\valid\\d_007.jpg: 288x640 9 handwrittens, 13 printeds, 1 others, Done. (1.050s)\n",
      "image 32/98 C:\\Users\\YeeFan\\Desktop\\yolo5\\text_data\\images\\valid\\d_013.jpg: 288x640 11 handwrittens, 13 printeds, Done. (0.615s)\n",
      "image 33/98 C:\\Users\\YeeFan\\Desktop\\yolo5\\text_data\\images\\valid\\d_019.jpg: 288x640 9 handwrittens, 13 printeds, 1 others, Done. (0.776s)\n",
      "image 34/98 C:\\Users\\YeeFan\\Desktop\\yolo5\\text_data\\images\\valid\\d_025.jpg: 288x640 8 handwrittens, 14 printeds, Done. (0.603s)\n",
      "image 35/98 C:\\Users\\YeeFan\\Desktop\\yolo5\\text_data\\images\\valid\\d_031.jpg: 288x640 9 handwrittens, 13 printeds, Done. (0.519s)\n",
      "image 36/98 C:\\Users\\YeeFan\\Desktop\\yolo5\\text_data\\images\\valid\\d_037.jpg: 288x640 8 handwrittens, 13 printeds, 1 others, Done. (0.515s)\n",
      "image 37/98 C:\\Users\\YeeFan\\Desktop\\yolo5\\text_data\\images\\valid\\d_043.jpg: 288x640 12 handwrittens, 14 printeds, 1 others, Done. (0.554s)\n",
      "image 38/98 C:\\Users\\YeeFan\\Desktop\\yolo5\\text_data\\images\\valid\\d_046.jpg: 288x640 11 handwrittens, 13 printeds, Done. (0.613s)\n",
      "image 39/98 C:\\Users\\YeeFan\\Desktop\\yolo5\\text_data\\images\\valid\\d_049.jpg: 288x640 9 handwrittens, 13 printeds, 1 others, Done. (0.559s)\n",
      "image 40/98 C:\\Users\\YeeFan\\Desktop\\yolo5\\text_data\\images\\valid\\e_005.jpg: 384x640 4 handwrittens, 11 printeds, 1 others, Done. (0.697s)\n",
      "image 41/98 C:\\Users\\YeeFan\\Desktop\\yolo5\\text_data\\images\\valid\\e_006.jpg: 416x640 4 handwrittens, 11 printeds, Done. (0.755s)\n",
      "image 42/98 C:\\Users\\YeeFan\\Desktop\\yolo5\\text_data\\images\\valid\\e_011.jpg: 384x640 4 handwrittens, 11 printeds, 1 others, Done. (0.762s)\n",
      "image 43/98 C:\\Users\\YeeFan\\Desktop\\yolo5\\text_data\\images\\valid\\e_013.jpg: 384x640 4 handwrittens, 11 printeds, 1 others, Done. (0.870s)\n",
      "image 44/98 C:\\Users\\YeeFan\\Desktop\\yolo5\\text_data\\images\\valid\\e_017.jpg: 384x640 4 handwrittens, 11 printeds, 1 others, Done. (0.729s)\n",
      "image 45/98 C:\\Users\\YeeFan\\Desktop\\yolo5\\text_data\\images\\valid\\e_023.jpg: 384x640 4 handwrittens, 11 printeds, 1 others, Done. (1.224s)\n",
      "image 46/98 C:\\Users\\YeeFan\\Desktop\\yolo5\\text_data\\images\\valid\\e_026.jpg: 384x640 4 handwrittens, 12 printeds, 1 others, Done. (0.797s)\n",
      "image 47/98 C:\\Users\\YeeFan\\Desktop\\yolo5\\text_data\\images\\valid\\e_029.jpg: 384x640 5 handwrittens, 13 printeds, 1 others, Done. (0.980s)\n",
      "image 48/98 C:\\Users\\YeeFan\\Desktop\\yolo5\\text_data\\images\\valid\\e_035.jpg: 384x640 5 handwrittens, 11 printeds, 1 others, Done. (0.771s)\n",
      "image 49/98 C:\\Users\\YeeFan\\Desktop\\yolo5\\text_data\\images\\valid\\e_041.jpg: 416x640 4 handwrittens, 11 printeds, 1 others, Done. (0.859s)\n",
      "image 50/98 C:\\Users\\YeeFan\\Desktop\\yolo5\\text_data\\images\\valid\\e_047.jpg: 384x640 4 handwrittens, 11 printeds, 1 others, Done. (0.860s)\n",
      "image 51/98 C:\\Users\\YeeFan\\Desktop\\yolo5\\text_data\\images\\valid\\f_003.jpg: 384x640 6 handwrittens, 11 printeds, Done. (0.761s)\n",
      "image 52/98 C:\\Users\\YeeFan\\Desktop\\yolo5\\text_data\\images\\valid\\f_009.jpg: 384x640 5 handwrittens, 12 printeds, 1 others, Done. (0.782s)\n",
      "image 53/98 C:\\Users\\YeeFan\\Desktop\\yolo5\\text_data\\images\\valid\\f_015.jpg: 384x640 6 handwrittens, 11 printeds, Done. (0.795s)\n",
      "image 54/98 C:\\Users\\YeeFan\\Desktop\\yolo5\\text_data\\images\\valid\\f_021.jpg: 384x640 5 handwrittens, 11 printeds, 1 others, Done. (0.760s)\n",
      "image 55/98 C:\\Users\\YeeFan\\Desktop\\yolo5\\text_data\\images\\valid\\f_026.jpg: 384x640 5 handwrittens, 11 printeds, 1 others, Done. (0.745s)\n",
      "image 56/98 C:\\Users\\YeeFan\\Desktop\\yolo5\\text_data\\images\\valid\\f_027.jpg: 384x640 6 handwrittens, 11 printeds, Done. (0.764s)\n",
      "image 57/98 C:\\Users\\YeeFan\\Desktop\\yolo5\\text_data\\images\\valid\\f_033.jpg: 384x640 7 handwrittens, 11 printeds, Done. (0.820s)\n",
      "image 58/98 C:\\Users\\YeeFan\\Desktop\\yolo5\\text_data\\images\\valid\\f_039.jpg: 384x640 5 handwrittens, 11 printeds, 1 others, Done. (0.723s)\n",
      "image 59/98 C:\\Users\\YeeFan\\Desktop\\yolo5\\text_data\\images\\valid\\f_045.jpg: 384x640 5 handwrittens, 12 printeds, 1 others, Done. (0.732s)\n",
      "image 60/98 C:\\Users\\YeeFan\\Desktop\\yolo5\\text_data\\images\\valid\\g_001.jpg: 512x640 8 handwrittens, 14 printeds, 1 others, Done. (1.074s)\n",
      "image 61/98 C:\\Users\\YeeFan\\Desktop\\yolo5\\text_data\\images\\valid\\g_007.jpg: 512x640 8 handwrittens, 15 printeds, 1 others, Done. (1.022s)\n",
      "image 62/98 C:\\Users\\YeeFan\\Desktop\\yolo5\\text_data\\images\\valid\\g_013.jpg: 480x640 10 handwrittens, 14 printeds, 1 others, Done. (0.953s)\n",
      "image 63/98 C:\\Users\\YeeFan\\Desktop\\yolo5\\text_data\\images\\valid\\g_019.jpg: 512x640 6 handwrittens, 14 printeds, 1 others, Done. (1.031s)\n",
      "image 64/98 C:\\Users\\YeeFan\\Desktop\\yolo5\\text_data\\images\\valid\\g_025.jpg: 512x640 10 handwrittens, 14 printeds, 1 others, Done. (1.040s)\n",
      "image 65/98 C:\\Users\\YeeFan\\Desktop\\yolo5\\text_data\\images\\valid\\g_031.jpg: 512x640 6 handwrittens, 14 printeds, 1 others, Done. (0.948s)\n",
      "image 66/98 C:\\Users\\YeeFan\\Desktop\\yolo5\\text_data\\images\\valid\\g_037.jpg: 512x640 10 handwrittens, 14 printeds, 1 others, Done. (1.033s)\n",
      "image 67/98 C:\\Users\\YeeFan\\Desktop\\yolo5\\text_data\\images\\valid\\g_042.jpg: 480x640 6 handwrittens, 14 printeds, 1 others, Done. (0.976s)\n",
      "image 68/98 C:\\Users\\YeeFan\\Desktop\\yolo5\\text_data\\images\\valid\\g_043.jpg: 512x640 6 handwrittens, 14 printeds, 1 others, Done. (1.058s)\n",
      "image 69/98 C:\\Users\\YeeFan\\Desktop\\yolo5\\text_data\\images\\valid\\g_048.jpg: 512x640 8 handwrittens, 15 printeds, 1 others, Done. (0.921s)\n",
      "image 70/98 C:\\Users\\YeeFan\\Desktop\\yolo5\\text_data\\images\\valid\\g_049.jpg: 512x640 13 handwrittens, 15 printeds, 1 others, Done. (1.045s)\n",
      "image 71/98 C:\\Users\\YeeFan\\Desktop\\yolo5\\text_data\\images\\valid\\h_005.jpg: 320x640 9 handwrittens, 12 printeds, Done. (0.632s)\n",
      "image 72/98 C:\\Users\\YeeFan\\Desktop\\yolo5\\text_data\\images\\valid\\h_011.jpg: 320x640 10 handwrittens, 12 printeds, Done. (0.583s)\n",
      "image 73/98 C:\\Users\\YeeFan\\Desktop\\yolo5\\text_data\\images\\valid\\h_017.jpg: 320x640 9 handwrittens, 12 printeds, Done. (0.719s)\n",
      "image 74/98 C:\\Users\\YeeFan\\Desktop\\yolo5\\text_data\\images\\valid\\h_029.jpg: 320x640 6 handwrittens, 16 printeds, Done. (0.668s)\n",
      "image 75/98 C:\\Users\\YeeFan\\Desktop\\yolo5\\text_data\\images\\valid\\h_035.jpg: 352x640 10 handwrittens, 12 printeds, Done. (0.694s)\n",
      "image 76/98 C:\\Users\\YeeFan\\Desktop\\yolo5\\text_data\\images\\valid\\h_040.jpg: 352x640 10 handwrittens, 12 printeds, Done. (0.661s)\n",
      "image 77/98 C:\\Users\\YeeFan\\Desktop\\yolo5\\text_data\\images\\valid\\h_041.jpg: 320x640 11 handwrittens, 12 printeds, Done. (0.615s)\n",
      "image 78/98 C:\\Users\\YeeFan\\Desktop\\yolo5\\text_data\\images\\valid\\h_042.jpg: 320x640 10 handwrittens, 12 printeds, Done. (0.662s)\n",
      "image 79/98 C:\\Users\\YeeFan\\Desktop\\yolo5\\text_data\\images\\valid\\h_047.jpg: 352x640 10 handwrittens, 12 printeds, Done. (0.706s)\n",
      "image 80/98 C:\\Users\\YeeFan\\Desktop\\yolo5\\text_data\\images\\valid\\i_003.jpg: 640x512 14 handwrittens, 24 printeds, 2 otherss, Done. (1.080s)\n",
      "image 81/98 C:\\Users\\YeeFan\\Desktop\\yolo5\\text_data\\images\\valid\\i_009.jpg: 640x512 18 handwrittens, 23 printeds, 1 others, Done. (0.976s)\n",
      "image 82/98 C:\\Users\\YeeFan\\Desktop\\yolo5\\text_data\\images\\valid\\i_021.jpg: 640x544 20 handwrittens, 24 printeds, 1 others, Done. (1.134s)\n",
      "image 83/98 C:\\Users\\YeeFan\\Desktop\\yolo5\\text_data\\images\\valid\\i_027.jpg: 640x512 20 handwrittens, 23 printeds, 1 others, Done. (1.009s)\n",
      "image 84/98 C:\\Users\\YeeFan\\Desktop\\yolo5\\text_data\\images\\valid\\i_033.jpg: 640x512 20 handwrittens, 23 printeds, Done. (0.975s)\n",
      "image 85/98 C:\\Users\\YeeFan\\Desktop\\yolo5\\text_data\\images\\valid\\i_039.jpg: 640x512 20 handwrittens, 23 printeds, Done. (1.065s)\n",
      "image 86/98 C:\\Users\\YeeFan\\Desktop\\yolo5\\text_data\\images\\valid\\i_045.jpg: 640x512 18 handwrittens, 23 printeds, 1 others, Done. (1.072s)\n",
      "image 87/98 C:\\Users\\YeeFan\\Desktop\\yolo5\\text_data\\images\\valid\\i_049.jpg: 640x512 18 handwrittens, 24 printeds, 1 others, Done. (0.977s)\n",
      "image 88/98 C:\\Users\\YeeFan\\Desktop\\yolo5\\text_data\\images\\valid\\j_000.jpg: 544x640 7 handwrittens, 14 printeds, 1 others, Done. (1.087s)\n",
      "image 89/98 C:\\Users\\YeeFan\\Desktop\\yolo5\\text_data\\images\\valid\\j_001.jpg: 544x640 7 handwrittens, 15 printeds, 1 others, Done. (1.111s)\n",
      "image 90/98 C:\\Users\\YeeFan\\Desktop\\yolo5\\text_data\\images\\valid\\j_007.jpg: 544x640 7 handwrittens, 14 printeds, 1 others, Done. (0.973s)\n",
      "image 91/98 C:\\Users\\YeeFan\\Desktop\\yolo5\\text_data\\images\\valid\\j_013.jpg: 544x640 8 handwrittens, 14 printeds, Done. (1.143s)\n",
      "image 92/98 C:\\Users\\YeeFan\\Desktop\\yolo5\\text_data\\images\\valid\\j_019.jpg: 576x640 7 handwrittens, 14 printeds, 1 others, Done. (1.258s)\n",
      "image 93/98 C:\\Users\\YeeFan\\Desktop\\yolo5\\text_data\\images\\valid\\j_025.jpg: 544x640 7 handwrittens, 14 printeds, 1 others, Done. (1.017s)\n",
      "image 94/98 C:\\Users\\YeeFan\\Desktop\\yolo5\\text_data\\images\\valid\\j_031.jpg: 544x640 7 handwrittens, 14 printeds, 1 others, Done. (1.042s)\n",
      "image 95/98 C:\\Users\\YeeFan\\Desktop\\yolo5\\text_data\\images\\valid\\j_037.jpg: 544x640 7 handwrittens, 14 printeds, 1 others, Done. (1.118s)\n",
      "image 96/98 C:\\Users\\YeeFan\\Desktop\\yolo5\\text_data\\images\\valid\\j_042.jpg: 544x640 7 handwrittens, 15 printeds, 1 others, Done. (1.072s)\n",
      "image 97/98 C:\\Users\\YeeFan\\Desktop\\yolo5\\text_data\\images\\valid\\j_043.jpg: 544x640 7 handwrittens, 14 printeds, 1 others, Done. (1.217s)\n",
      "image 98/98 C:\\Users\\YeeFan\\Desktop\\yolo5\\text_data\\images\\valid\\j_049.jpg: 480x640 6 handwrittens, 14 printeds, 1 others, Done. (0.906s)\n",
      "Results saved to runs\\detect\\exp14\n",
      "98 labels saved to runs\\detect\\exp14\\labels\n",
      "Done. (99.010s)\n"
     ]
    },
    {
     "name": "stderr",
     "output_type": "stream",
     "text": [
      "YOLOv5  v5.0-192-g30e4c4f torch 1.9.0+cpu CPU\n",
      "\n",
      "Fusing layers... \n",
      "C:\\Users\\YeeFan\\Anaconda3\\lib\\site-packages\\torch\\nn\\functional.py:718: UserWarning: Named tensors and all their associated APIs are an experimental feature and subject to change. Please do not use them for anything important until they are released as stable. (Triggered internally at  ..\\c10/core/TensorImpl.h:1156.)\n",
      "  return torch.max_pool2d(input, kernel_size, stride, padding, dilation, ceil_mode)\n",
      "Model Summary: 476 layers, 87212152 parameters, 0 gradients, 217.1 GFLOPs\n"
     ]
    }
   ],
   "source": [
    "!python detect.py --weights runs/train/best_model6/weights/best.pt --img 640 --conf 0.5 --save-txt --save-crop --source text_data/images/valid/\n"
   ]
  },
  {
   "cell_type": "code",
   "execution_count": null,
   "metadata": {},
   "outputs": [],
   "source": [
    "Image(filename='text_data/images/train/a_000.jpg', width=600)"
   ]
  }
 ],
 "metadata": {
  "kernelspec": {
   "display_name": "Python 3",
   "language": "python",
   "name": "python3"
  },
  "language_info": {
   "codemirror_mode": {
    "name": "ipython",
    "version": 3
   },
   "file_extension": ".py",
   "mimetype": "text/x-python",
   "name": "python",
   "nbconvert_exporter": "python",
   "pygments_lexer": "ipython3",
   "version": "3.7.9"
  }
 },
 "nbformat": 4,
 "nbformat_minor": 4
}
