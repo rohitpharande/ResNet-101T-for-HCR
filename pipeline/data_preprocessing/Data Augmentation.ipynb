{
 "cells": [
  {
   "cell_type": "code",
   "execution_count": 2,
   "metadata": {},
   "outputs": [
    {
     "name": "stderr",
     "output_type": "stream",
     "text": [
      "Using TensorFlow backend.\n"
     ]
    }
   ],
   "source": [
    "import sys\n",
    "sys.path.append('../')\n",
    "from utils.lib import *"
   ]
  },
  {
   "cell_type": "code",
   "execution_count": 3,
   "metadata": {},
   "outputs": [],
   "source": [
    "data, label_file = load_data('',['../src/Method 2_dataset/thumbnail/'])\n",
    "data = np.expand_dims(data,axis=0)\n",
    "\n",
    "data.shape\n",
    "\n",
    "data = data.reshape(5099,30,375,1)\n",
    "\n",
    "data = data/255."
   ]
  },
  {
   "cell_type": "code",
   "execution_count": 4,
   "metadata": {},
   "outputs": [],
   "source": [
    "def reduce_line(img):\n",
    "    kernel = np.ones((3,3), np.uint8)\n",
    "    return cv2.dilate(img, kernel, iterations=1)\n",
    "\n",
    "def noise(img):\n",
    "    return skimage.util.random_noise(img, mode='gaussian', clip=True)\n",
    "\n",
    "def blur(img):\n",
    "    return cv2.blur(img,(8,8))\n",
    "\n",
    "\n",
    "def expand_width(img):\n",
    "    pxmin = np.min(img)\n",
    "    pxmax = np.max(img)\n",
    "    imgContrast = (img - pxmin) / (pxmax - pxmin) * 255\n",
    "\n",
    "    kernel = np.ones((3, 3), np.uint8)\n",
    "    imgMorph = cv2.erode(imgContrast, kernel, iterations = 1)\n",
    "    return imgMorph\n",
    "\n",
    "def augmentation(img):\n",
    "    augmented = list()\n",
    "    for i in img:\n",
    "        augmented.append(i.reshape(30,375,1))\n",
    "        #augmented.append(np.asarray(reduce_line(i)).reshape(30,375,1))\n",
    "        augmented.append(np.asarray(noise(i)*255).reshape(30,375,1)/255)\n",
    "        #augmented.append(np.asarray(blur(i)).reshape(30,375,1))\n",
    "        augmented.append(np.asarray(expand_width(i)).reshape(30,375,1)/255)\n",
    "        \n",
    "    return np.asarray(augmented)"
   ]
  },
  {
   "cell_type": "code",
   "execution_count": null,
   "metadata": {},
   "outputs": [],
   "source": []
  },
  {
   "cell_type": "code",
   "execution_count": 5,
   "metadata": {},
   "outputs": [],
   "source": [
    "augmented = augmentation(data)"
   ]
  },
  {
   "cell_type": "code",
   "execution_count": 6,
   "metadata": {},
   "outputs": [
    {
     "data": {
      "text/plain": [
       "15297"
      ]
     },
     "execution_count": 6,
     "metadata": {},
     "output_type": "execute_result"
    }
   ],
   "source": [
    "len(augmented)"
   ]
  },
  {
   "cell_type": "code",
   "execution_count": 7,
   "metadata": {
    "scrolled": false
   },
   "outputs": [
    {
     "data": {
      "text/plain": [
       "(15297, 30, 375, 1)"
      ]
     },
     "execution_count": 7,
     "metadata": {},
     "output_type": "execute_result"
    }
   ],
   "source": [
    "augmented.shape"
   ]
  },
  {
   "cell_type": "code",
   "execution_count": null,
   "metadata": {},
   "outputs": [],
   "source": []
  },
  {
   "cell_type": "code",
   "execution_count": 8,
   "metadata": {},
   "outputs": [
    {
     "data": {
      "text/plain": [
       "<matplotlib.image.AxesImage at 0x7fbfb9859410>"
      ]
     },
     "execution_count": 8,
     "metadata": {},
     "output_type": "execute_result"
    },
    {
     "data": {
      "image/png": "[encoded data removed]",
      "text/plain": [
       "<Figure size 1584x720 with 1 Axes>"
      ]
     },
     "metadata": {},
     "output_type": "display_data"
    }
   ],
   "source": [
    "plt.imshow(augmented[2])"
   ]
  },
  {
   "cell_type": "code",
   "execution_count": 11,
   "metadata": {},
   "outputs": [],
   "source": [
    "def save_augmented(imgs):\n",
    "    for i in range(len(imgs)):\n",
    "        width = 375\n",
    "        height = 30\n",
    "        width = int(width)\n",
    "        height = int(height)\n",
    "\n",
    "        img = imgs[i].reshape(30,375)\n",
    "        image = Image.fromarray((img*255).astype(np.uint8))\n",
    "        image = image.convert('RGB')\n",
    "        image_resized = image.resize((width,height))\n",
    "        image_resized.save('../src/Method 2_dataset/thumbnail_augment/'+str(i)+'.jpg','PNG', quality=100)"
   ]
  },
  {
   "cell_type": "code",
   "execution_count": 12,
   "metadata": {},
   "outputs": [],
   "source": [
    "save_augmented(augmented)"
   ]
  },
  {
   "cell_type": "code",
   "execution_count": 1,
   "metadata": {},
   "outputs": [],
   "source": [
    "f = open('../src/Method 2_dataset/final_handwritten.txt',\"r\")\n",
    "\n",
    "\n",
    "full_label = list()\n",
    "\n",
    "for line in f:\n",
    "\n",
    "\n",
    "    full_label.append(line)\n",
    "    \n"
   ]
  },
  {
   "cell_type": "code",
   "execution_count": 2,
   "metadata": {},
   "outputs": [],
   "source": [
    "with open('../src/Method 2_dataset/final_augment_handwritten.txt', 'w') as file:\n",
    "    for item in full_label:\n",
    "        for i in range(3):\n",
    "            file.writelines(\"%s\"% (item))"
   ]
  },
  {
   "cell_type": "code",
   "execution_count": null,
   "metadata": {},
   "outputs": [],
   "source": []
  },
  {
   "cell_type": "code",
   "execution_count": null,
   "metadata": {},
   "outputs": [],
   "source": []
  },
  {
   "cell_type": "code",
   "execution_count": null,
   "metadata": {},
   "outputs": [],
   "source": []
  },
  {
   "cell_type": "code",
   "execution_count": 10,
   "metadata": {},
   "outputs": [
    {
     "name": "stdout",
     "output_type": "stream",
     "text": [
      "The tensorboard extension is already loaded. To reload it, use:\n",
      "  %reload_ext tensorboard\n"
     ]
    }
   ],
   "source": [
    "%load_ext tensorboard\n",
    "\n",
    "\n"
   ]
  },
  {
   "cell_type": "code",
   "execution_count": 11,
   "metadata": {},
   "outputs": [
    {
     "data": {
      "text/html": [
       "\n",
       "      <iframe id=\"tensorboard-frame-5f24ad693307316f\" width=\"100%\" height=\"800\" frameborder=\"0\">\n",
       "      </iframe>\n",
       "      <script>\n",
       "        (function() {\n",
       "          const frame = document.getElementById(\"tensorboard-frame-5f24ad693307316f\");\n",
       "          const url = new URL(\"/\", window.location);\n",
       "          const port = 6017;\n",
       "          if (port) {\n",
       "            url.port = port;\n",
       "          }\n",
       "          frame.src = url;\n",
       "        })();\n",
       "      </script>\n",
       "    "
      ],
      "text/plain": [
       "<IPython.core.display.HTML object>"
      ]
     },
     "metadata": {},
     "output_type": "display_data"
    }
   ],
   "source": [
    "%tensorboard --logdir logs"
   ]
  },
  {
   "cell_type": "code",
   "execution_count": null,
   "metadata": {},
   "outputs": [],
   "source": []
  }
 ],
 "metadata": {
  "kernelspec": {
   "display_name": "Python 3",
   "language": "python",
   "name": "python3"
  },
  "language_info": {
   "codemirror_mode": {
    "name": "ipython",
    "version": 3
   },
   "file_extension": ".py",
   "mimetype": "text/x-python",
   "name": "python",
   "nbconvert_exporter": "python",
   "pygments_lexer": "ipython3",
   "version": "3.7.9"
  }
 },
 "nbformat": 4,
 "nbformat_minor": 4
}
