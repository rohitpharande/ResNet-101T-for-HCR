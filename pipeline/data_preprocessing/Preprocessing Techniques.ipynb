{
 "cells": [
  {
   "cell_type": "code",
   "execution_count": 4,
   "metadata": {},
   "outputs": [],
   "source": [
    "import os\n",
    "import cv2\n",
    "import numpy as np\n",
    "import math\n",
    "import matplotlib.pyplot as plt\n",
    "from PIL import Image, ImageChops\n",
    "from scipy import ndimage"
   ]
  },
  {
   "cell_type": "code",
   "execution_count": 2,
   "metadata": {},
   "outputs": [],
   "source": [
    "def load_data(datadir,categories):\n",
    "    \n",
    "    datalength = 0\n",
    "    data = list()\n",
    "    labels = list()\n",
    "    full_name = list()\n",
    "    for i,category in enumerate(categories):\n",
    "        path = os.path.join(datadir,category)\n",
    "        path_list = os.listdir(path)\n",
    "        if('.DS_Store') in path_list:\n",
    "            path_list.remove('.DS_Store')\n",
    "        for img in sorted(path_list):\n",
    "            img_ = os.path.join(path,img)\n",
    "            img_ = cv2.imread(img_)\n",
    "            img_ = cv2.cvtColor(img_,cv2.COLOR_BGR2RGB)\n",
    "            data.append(img_)\n",
    "        full_name.extend(sorted(path_list))\n",
    "            \n",
    "    return data,full_name"
   ]
  },
  {
   "cell_type": "code",
   "execution_count": 36,
   "metadata": {
    "scrolled": true
   },
   "outputs": [],
   "source": [
    "data,name = load_data('',['../src/Line Removed/'])\n"
   ]
  },
  {
   "cell_type": "code",
   "execution_count": 38,
   "metadata": {},
   "outputs": [
    {
     "data": {
      "text/plain": [
       "500"
      ]
     },
     "execution_count": 38,
     "metadata": {},
     "output_type": "execute_result"
    }
   ],
   "source": [
    "len(data)"
   ]
  },
  {
   "cell_type": "markdown",
   "metadata": {},
   "source": [
    "## Same Height and Width Adjustment"
   ]
  },
  {
   "cell_type": "code",
   "execution_count": 9,
   "metadata": {},
   "outputs": [],
   "source": [
    "max_height = 0\n",
    "for i in range(len(data)):\n",
    "    max_h = data[i].shape[0]\n",
    "    if max_h >= max_height:\n",
    "        max_height = max_h"
   ]
  },
  {
   "cell_type": "code",
   "execution_count": 11,
   "metadata": {
    "scrolled": true
   },
   "outputs": [
    {
     "data": {
      "text/plain": [
       "1469"
      ]
     },
     "execution_count": 11,
     "metadata": {},
     "output_type": "execute_result"
    }
   ],
   "source": [
    "max_height"
   ]
  },
  {
   "cell_type": "code",
   "execution_count": 34,
   "metadata": {},
   "outputs": [],
   "source": [
    "for i in range(len(data)):\n",
    "    trans_ratio = max_height/data[i].shape[0]\n",
    "    trans_ratio = int(trans_ratio)\n",
    "    if trans_ratio<1:\n",
    "        width = data[i].shape[1]\n",
    "        height = data[i].shape[0]\n",
    "    else:\n",
    "        width = data[i].shape[1]*trans_ratio\n",
    "        height = max_height\n",
    "    \n",
    "    image = Image.fromarray(data[i])\n",
    "    image_resized = image.resize((width,height))\n",
    "    image_resized.save('full_data2/'+name[i],'PNG', quality=100)"
   ]
  },
  {
   "cell_type": "code",
   "execution_count": null,
   "metadata": {},
   "outputs": [],
   "source": []
  },
  {
   "cell_type": "code",
   "execution_count": 14,
   "metadata": {},
   "outputs": [],
   "source": [
    "data,name = load_data('',['../src/removed_1'])\n"
   ]
  },
  {
   "cell_type": "code",
   "execution_count": 32,
   "metadata": {},
   "outputs": [],
   "source": [
    "lst = []\n",
    "width_max = 0\n",
    "count = 0\n",
    "for i in range(len(data)):\n",
    "    max_v = np.asarray(data[i]).shape[1]\n",
    "    if  max_v >= width_max:\n",
    "         width_max = max_v\n",
    "#     if max_v >4000:\n",
    "#         count+=1\n",
    "#         lst.append(i)"
   ]
  },
  {
   "cell_type": "code",
   "execution_count": 33,
   "metadata": {},
   "outputs": [
    {
     "data": {
      "text/plain": [
       "1597"
      ]
     },
     "execution_count": 33,
     "metadata": {},
     "output_type": "execute_result"
    }
   ],
   "source": [
    "width_max"
   ]
  },
  {
   "cell_type": "code",
   "execution_count": 25,
   "metadata": {},
   "outputs": [],
   "source": [
    "def add_padding(img,top,right,bottom,left,color):\n",
    "    width = np.asarray(img).shape[1]\n",
    "    height = np.asarray(img).shape[0]\n",
    "    new_width = width+right+left\n",
    "    new_height = height+top+bottom\n",
    "    new_img = Image.new(mode=img.mode,size=(new_width,new_height),color=color)\n",
    "    new_img.paste(img,(left,top))\n",
    "    return new_img"
   ]
  },
  {
   "cell_type": "code",
   "execution_count": 42,
   "metadata": {},
   "outputs": [],
   "source": [
    "for i in range(len(data)):\n",
    "#     current_width = np.asarray(data[i]).shape[1]\n",
    "#     gap = width_max - current_width\n",
    "    im = Image.fromarray(data[i])\n",
    "    im.thumbnail((960,960))\n",
    "#     im_new = add_padding(im, 0, gap, 0, 0, (255, 255, 255))\n",
    "    im.save('../src/final/'+name[i], quality=100)"
   ]
  },
  {
   "cell_type": "markdown",
   "metadata": {},
   "source": [
    "## Full data resize"
   ]
  },
  {
   "cell_type": "code",
   "execution_count": 5,
   "metadata": {
    "scrolled": false
   },
   "outputs": [],
   "source": [
    "data,name = load_data('',['../src/Method 2_dataset/final_handwritten'])"
   ]
  },
  {
   "cell_type": "code",
   "execution_count": 9,
   "metadata": {},
   "outputs": [],
   "source": [
    "with open('names.txt', 'w') as file:\n",
    "    for item in name:\n",
    "        file.writelines(\"%s\\n\"% (item))"
   ]
  },
  {
   "cell_type": "code",
   "execution_count": null,
   "metadata": {},
   "outputs": [],
   "source": [
    "f = open('names.txt',\"r\")\n"
   ]
  },
  {
   "cell_type": "code",
   "execution_count": 4,
   "metadata": {},
   "outputs": [],
   "source": [
    "data = np.asarray(data)"
   ]
  },
  {
   "cell_type": "code",
   "execution_count": 5,
   "metadata": {},
   "outputs": [],
   "source": [
    "for i in range(len(data)):\n",
    "    width = 1800\n",
    "    height = 48\n",
    "    width = int(width)\n",
    "    height = int(height)\n",
    "    image = Image.fromarray(data[i])\n",
    "    image_resized = image.resize((width,height))\n",
    "    image_resized.save('full_data/'+name[i],'PNG', quality=100)"
   ]
  },
  {
   "cell_type": "code",
   "execution_count": null,
   "metadata": {},
   "outputs": [],
   "source": []
  },
  {
   "cell_type": "code",
   "execution_count": 33,
   "metadata": {},
   "outputs": [],
   "source": [
    "def expand_width(img):\n",
    "    pxmin = np.min(img)\n",
    "    pxmax = np.max(img)\n",
    "    imgContrast = (img - pxmin) / (pxmax - pxmin) * 255\n",
    "\n",
    "    # increase line width\n",
    "    kernel = np.ones((3, 3), np.uint8)\n",
    "    imgMorph = cv2.erode(imgContrast, kernel, iterations = 1)\n",
    "    return imgMorph"
   ]
  },
  {
   "cell_type": "code",
   "execution_count": 40,
   "metadata": {},
   "outputs": [],
   "source": [
    "for item in range(len(data)):\n",
    "    img = Image.fromarray(data[item])\n",
    "    img_addline = expand_width(img)\n",
    "    cv2.imwrite('full_data4/'+name[item], img_addline)"
   ]
  },
  {
   "cell_type": "code",
   "execution_count": 36,
   "metadata": {},
   "outputs": [],
   "source": [
    "img = Image.fromarray(data[0])\n",
    "img_addline = expand_width(img)"
   ]
  },
  {
   "cell_type": "code",
   "execution_count": null,
   "metadata": {},
   "outputs": [],
   "source": []
  },
  {
   "cell_type": "markdown",
   "metadata": {},
   "source": [
    "## Check label file"
   ]
  },
  {
   "cell_type": "code",
   "execution_count": 71,
   "metadata": {},
   "outputs": [],
   "source": [
    "f = open('../src/Method 2_dataset/handwritten_full_label.txt',\"r\")\n"
   ]
  },
  {
   "cell_type": "code",
   "execution_count": 72,
   "metadata": {},
   "outputs": [
    {
     "name": "stdout",
     "output_type": "stream",
     "text": [
      "['a_00216.jpg', '90', '\\n']\n",
      "['b_00111.jpg', '-', '\\n']\n",
      "['b_0379.jpg', '-', '\\n']\n",
      "['b_0383.jpg', '6%', '\\n']\n",
      "['b_04324.jpg', '292.00', '\\n']\n",
      "['b_04422.jpg', '300', '\\n']\n",
      "['b_04917.jpg', '200', '\\n']\n",
      "['c_0002.jpg', 'medicines', '\\n']\n",
      "['d_010.jpg', 'Usama', 'bin', 'Rahman\\n']\n",
      "['d_0019.jpg', 'Husker', 'Quek\\n']\n",
      "['d_0108.jpg', 'Usame', 'bin\\n']\n",
      "['e_0022.jpg', '69', '\\n']\n",
      "['i_03015.jpg', 'Gu|81000', '\\n']\n"
     ]
    }
   ],
   "source": [
    "full_label = list()\n",
    "\n",
    "for line in f:\n",
    "\n",
    "    line2 = line.split(' ')\n",
    "    if len(line2) >=3:\n",
    "        print(line2)\n",
    "    full_label.append(line2[1])\n",
    "    "
   ]
  },
  {
   "cell_type": "markdown",
   "metadata": {},
   "source": [
    "full_label = list()\n",
    "for line in f:\n",
    "    for i in range(7):\n",
    "        f.readline()\n",
    "    for line in f:\n",
    "        full_label.append(line)"
   ]
  },
  {
   "cell_type": "code",
   "execution_count": 56,
   "metadata": {},
   "outputs": [
    {
     "data": {
      "text/plain": [
       "5815"
      ]
     },
     "execution_count": 56,
     "metadata": {},
     "output_type": "execute_result"
    }
   ],
   "source": [
    "len(full_label)"
   ]
  },
  {
   "cell_type": "markdown",
   "metadata": {},
   "source": [
    "full_label[1]"
   ]
  },
  {
   "cell_type": "markdown",
   "metadata": {},
   "source": [
    "real_label = list()\n",
    "for i in full_label:\n",
    "    real_label.append(i[14:])"
   ]
  },
  {
   "cell_type": "code",
   "execution_count": 20,
   "metadata": {},
   "outputs": [],
   "source": [
    "final_label = list()\n",
    "for i in full_label:\n",
    "    i = i.replace('\\n','|')\n",
    "    final_label.append(i)"
   ]
  },
  {
   "cell_type": "code",
   "execution_count": 21,
   "metadata": {
    "scrolled": true
   },
   "outputs": [
    {
     "data": {
      "text/plain": [
       "'No|17|,|Jalan|Ong|,|Taman|Johor|'"
      ]
     },
     "execution_count": 21,
     "metadata": {},
     "output_type": "execute_result"
    }
   ],
   "source": [
    "final_label[0]"
   ]
  },
  {
   "cell_type": "code",
   "execution_count": 70,
   "metadata": {},
   "outputs": [],
   "source": [
    "with open('../src/Method 2_dataset/final_printed.txt', 'w') as file:\n",
    "    for item in full_label:\n",
    "        file.writelines(\"%s\"% (item))"
   ]
  },
  {
   "cell_type": "code",
   "execution_count": null,
   "metadata": {},
   "outputs": [],
   "source": [
    "for img in sorted(path_list):\n",
    "    img_ = os.path.join(path,img)\n",
    "    img_ = cv2.imread(img_)\n",
    "    img_ = cv2.cvtColor(img_,cv2.COLOR_BGR2RGB)\n",
    "    data.append(img_)"
   ]
  },
  {
   "cell_type": "code",
   "execution_count": null,
   "metadata": {},
   "outputs": [],
   "source": []
  },
  {
   "cell_type": "code",
   "execution_count": null,
   "metadata": {},
   "outputs": [],
   "source": []
  },
  {
   "cell_type": "code",
   "execution_count": 7,
   "metadata": {},
   "outputs": [],
   "source": [
    "import sys\n",
    "sys.path.append('../')\n",
    "from utils.preprocessing import *\n",
    "from utils.utils import *\n"
   ]
  },
  {
   "cell_type": "code",
   "execution_count": 8,
   "metadata": {},
   "outputs": [],
   "source": [
    "label = read_final_label('data_.txt')"
   ]
  },
  {
   "cell_type": "code",
   "execution_count": 17,
   "metadata": {},
   "outputs": [],
   "source": [
    "final_lbl = list()\n",
    "for i in label:\n",
    "    for j in range(5):\n",
    "        final_lbl.append(i)"
   ]
  },
  {
   "cell_type": "code",
   "execution_count": 18,
   "metadata": {},
   "outputs": [],
   "source": [
    "with open('data_augmented5.txt', 'w') as file:\n",
    "    for item in final_lbl:\n",
    "        file.writelines(\"%s\"% (item))"
   ]
  },
  {
   "cell_type": "code",
   "execution_count": 19,
   "metadata": {},
   "outputs": [
    {
     "data": {
      "text/plain": [
       "26170"
      ]
     },
     "execution_count": 19,
     "metadata": {},
     "output_type": "execute_result"
    }
   ],
   "source": [
    "len(final_lbl)"
   ]
  },
  {
   "cell_type": "code",
   "execution_count": null,
   "metadata": {},
   "outputs": [],
   "source": []
  }
 ],
 "metadata": {
  "kernelspec": {
   "display_name": "Python 3",
   "language": "python",
   "name": "python3"
  },
  "language_info": {
   "codemirror_mode": {
    "name": "ipython",
    "version": 3
   },
   "file_extension": ".py",
   "mimetype": "text/x-python",
   "name": "python",
   "nbconvert_exporter": "python",
   "pygments_lexer": "ipython3",
   "version": "3.7.9"
  }
 },
 "nbformat": 4,
 "nbformat_minor": 4
}
